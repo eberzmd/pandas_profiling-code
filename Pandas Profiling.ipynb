{
 "cells": [
  {
   "cell_type": "code",
   "execution_count": null,
   "metadata": {},
   "outputs": [],
   "source": [
    "from pathilb import Path\n",
    "\n",
    "import pandas as pd\n",
    "import numpy as np\n",
    "import matplotlib.pyplot as plt\n",
    "import matplotlib.ticker as ticker\n",
    "import seaborn as sns\n",
    "\n",
    "from pandas_profiling import ProfileReport\n",
    "from pandas_profiling.utils.cache import cache_file"
   ]
  },
  {
   "cell_type": "code",
   "execution_count": null,
   "metadata": {},
   "outputs": [],
   "source": [
    "# Read in data and set target variable\n",
    "df = pd.read_csv(\"\", low_memory = False)\n",
    "df['Target'] = np.where(df['whatever']==42, 1, 0)"
   ]
  },
  {
   "cell_type": "code",
   "execution_count": null,
   "metadata": {},
   "outputs": [],
   "source": [
    "# Drop variables that are not needed\n",
    "df.drop([], axis=1, inplace=True)"
   ]
  },
  {
   "cell_type": "code",
   "execution_count": null,
   "metadata": {},
   "outputs": [],
   "source": [
    "df_profile = df.iloc[:, :150]"
   ]
  },
  {
   "cell_type": "code",
   "execution_count": null,
   "metadata": {},
   "outputs": [],
   "source": [
    "# minimal = True when > 300 or so variables\n",
    "profile = ProfileReport(df_profile, title = \"Title Goes Here\", minimal = True)"
   ]
  },
  {
   "cell_type": "code",
   "execution_count": null,
   "metadata": {},
   "outputs": [],
   "source": [
    "profile.to_file(output_file=Path(\"C:/Users?....etc./name_of_report.html\"))"
   ]
  },
  {
   "cell_type": "code",
   "execution_count": null,
   "metadata": {},
   "outputs": [],
   "source": [
    "# One Hot Encoding\n",
    "ohe1 = pd.get_dummies(df)"
   ]
  },
  {
   "cell_type": "code",
   "execution_count": null,
   "metadata": {},
   "outputs": [],
   "source": [
    "# Get an idea of prevalence of different categories in a variable that appeared as numeric. \n",
    "# Example: codes that are represented as 1-20. Although Categorical, they appear numeric and therefore \n",
    "# not broken up by get_dummies()\n",
    "ohe1['example_var'].value_counts()[:6]"
   ]
  },
  {
   "cell_type": "code",
   "execution_count": null,
   "metadata": {},
   "outputs": [],
   "source": [
    "# Simple Combo Chart Loop\n",
    "for i in range(0, len(new_df.columns)):\n",
    "    j = str(new_df.columns[i])\n",
    "    # Create Combo chart\n",
    "    fig, ax1 = plt.subplots(figsize = (10,6))\n",
    "    color = 'tab:blue'\n",
    "    # Bar Plot Creation\n",
    "    ax1.set_title(j+ ' vs Target', fontsize = 16)\n",
    "    ax1 = sns.countplot(x=j, data = new_df, color = color)\n",
    "    ax1.set_ylabel('Claim Count', fontsize =16, color=color)\n",
    "    ax1.tick_params(axis='y')\n",
    "    for p in ax1.patches:\n",
    "        ax1.annotate(format(p.get_height(), ','),\n",
    "                    (p.get_x() + p.get_width() / 2., p.get_height()),\n",
    "                    ha = 'center', va = 'center',\n",
    "                    size = 16,\n",
    "                    xytext = (0, 9),\n",
    "                    textcoords = 'offset points')\n",
    "    # Specify we want to share the same x-axis\n",
    "    ax2 = ax1.twinx()\n",
    "    color = 'tab:red'\n",
    "    # Line Plot Creation\n",
    "    ax2.set_ylabel('Target %', fontsize = 16, color=color)\n",
    "    ax2 = sns.lineplot(x=j, y='Target', data = new_df, sort=True, color=color, err_style=None)\n",
    "    ax2.tick_params(axis='y', color=color)\n",
    "    ax2.yaxis.set_major_formatter(ticker.PercentFormatter(xmax=1))\n",
    "    # Show Plot\n",
    "    plt.show()"
   ]
  },
  {
   "cell_type": "code",
   "execution_count": null,
   "metadata": {},
   "outputs": [],
   "source": [
    "# In case we want to use the above loop on only variables with less than 20 and more than 2 unique responses\n",
    "fewunique = []\n",
    "for j in range(0,len(df.columns)):\n",
    "    addtolist = len(df.iloc[:,j].unique()) < 20 and len(df.iloc[:,j].unique()) >= 2\n",
    "    fewunique2 = fewunique.append(addtolist)\n",
    "\n",
    "dftoloop = df.iloc[:,fewunique]"
   ]
  },
  {
   "cell_type": "code",
   "execution_count": null,
   "metadata": {},
   "outputs": [],
   "source": [
    "# Simple Combo Chart Loop using above dftoloop\n",
    "for i in range(0, len(dftoloop.columns)):\n",
    "    j = str(dftoloop.columns[i])\n",
    "    # Create Combo chart\n",
    "    fig, ax1 = plt.subplots(figsize = (10,6))\n",
    "    color = 'tab:blue'\n",
    "    # Bar Plot Creation\n",
    "    ax1.set_title(j+ ' vs Target', fontsize = 16)\n",
    "    ax1 = sns.countplot(x=j, data = dftoloop, color = color)\n",
    "    ax1.set_ylabel('Claim Count', fontsize =16, color=color)\n",
    "    ax1.tick_params(axis='y')\n",
    "    for p in ax1.patches:\n",
    "        ax1.annotate(format(p.get_height(), ','),\n",
    "                    (p.get_x() + p.get_width() / 2., p.get_height()),\n",
    "                    ha = 'center', va = 'center',\n",
    "                    size = 16,\n",
    "                    xytext = (0, 9),\n",
    "                    textcoords = 'offset points')\n",
    "    # Specify we want to share the same x-axis\n",
    "    ax2 = ax1.twinx()\n",
    "    color = 'tab:red'\n",
    "    # Line Plot Creation\n",
    "    ax2.set_ylabel('Target %', fontsize = 16, color=color)\n",
    "    ax2 = sns.lineplot(x=j, y='Target', data = dftoloop, sort=True, color=color, err_style=None)\n",
    "    ax2.tick_params(axis='y', color=color)\n",
    "    ax2.yaxis.set_major_formatter(ticker.PercentFormatter(xmax=1))\n",
    "    # Show Plot\n",
    "    plt.show()"
   ]
  },
  {
   "cell_type": "code",
   "execution_count": null,
   "metadata": {},
   "outputs": [],
   "source": [
    "# Train/Test Split\n",
    "from sklearn.model_selection import train_test_split\n",
    "train, test = train_test_split(pd.DataFrame(set(df['Identifier_Variable'])), random_state = 42)\n",
    "# Note that this creates a 75/25 split by default"
   ]
  },
  {
   "cell_type": "code",
   "execution_count": null,
   "metadata": {},
   "outputs": [],
   "source": [
    "# Fill NA with 0 if desired\n",
    "df = df.fillna(0)"
   ]
  },
  {
   "cell_type": "code",
   "execution_count": null,
   "metadata": {},
   "outputs": [],
   "source": [
    "# Save final data frame as csv\n",
    "train.to_csv('[insert file location.csv here]')\n",
    "test.to_csv('[insert file location.csv here]')"
   ]
  }
 ],
 "metadata": {
  "kernelspec": {
   "display_name": "Python 3",
   "language": "python",
   "name": "python3"
  },
  "language_info": {
   "codemirror_mode": {
    "name": "ipython",
    "version": 3
   },
   "file_extension": ".py",
   "mimetype": "text/x-python",
   "name": "python",
   "nbconvert_exporter": "python",
   "pygments_lexer": "ipython3",
   "version": "3.8.3"
  }
 },
 "nbformat": 4,
 "nbformat_minor": 4
}
